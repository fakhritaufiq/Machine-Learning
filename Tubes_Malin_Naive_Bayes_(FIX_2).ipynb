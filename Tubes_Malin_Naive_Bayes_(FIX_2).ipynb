{
  "nbformat": 4,
  "nbformat_minor": 0,
  "metadata": {
    "colab": {
      "name": "Tubes Malin Naive Bayes (FIX 2).ipynb",
      "provenance": [],
      "collapsed_sections": []
    },
    "kernelspec": {
      "name": "python3",
      "display_name": "Python 3"
    }
  },
  "cells": [
    {
      "cell_type": "code",
      "metadata": {
        "id": "w4-tELTeq0IY",
        "colab_type": "code",
        "colab": {
          "base_uri": "https://localhost:8080/",
          "height": 71
        },
        "outputId": "971d5b2c-3a20-4669-a06a-838fb4ad437b"
      },
      "source": [
        "import pandas as pd\n",
        "import numpy as np\n",
        "import matplotlib.pyplot as plt\n",
        "from sklearn.model_selection import train_test_split\n",
        "from sklearn.preprocessing import StandardScaler\n",
        "from sklearn.naive_bayes import GaussianNB\n",
        "from sklearn import metrics"
      ],
      "execution_count": 1,
      "outputs": [
        {
          "output_type": "stream",
          "text": [
            "/usr/local/lib/python3.6/dist-packages/statsmodels/tools/_testing.py:19: FutureWarning: pandas.util.testing is deprecated. Use the functions in the public API at pandas.testing instead.\n",
            "  import pandas.util.testing as tm\n"
          ],
          "name": "stderr"
        }
      ]
    },
    {
      "cell_type": "code",
      "metadata": {
        "id": "Bz3ZZtlas2oF",
        "colab_type": "code",
        "colab": {}
      },
      "source": [
        "df=pd.read_csv(\"used_cars_kmeans.csv\")"
      ],
      "execution_count": 0,
      "outputs": []
    },
    {
      "cell_type": "code",
      "metadata": {
        "id": "91pLYReBs4V8",
        "colab_type": "code",
        "colab": {}
      },
      "source": [
        "df=df[['price', 'year', 'odometer', 'kelas_label']]"
      ],
      "execution_count": 0,
      "outputs": []
    },
    {
      "cell_type": "code",
      "metadata": {
        "id": "L2TtDmkzs6Hw",
        "colab_type": "code",
        "colab": {}
      },
      "source": [
        "X = df[['price', 'year', 'odometer']]\n",
        "Y = df['kelas_label']"
      ],
      "execution_count": 0,
      "outputs": []
    },
    {
      "cell_type": "markdown",
      "metadata": {
        "id": "dyoyYRoOvkwi",
        "colab_type": "text"
      },
      "source": [
        "Mencari missing value dengan cara interpolasi linear."
      ]
    },
    {
      "cell_type": "code",
      "metadata": {
        "id": "xVT4bfWQs90W",
        "colab_type": "code",
        "colab": {}
      },
      "source": [
        "X = X.interpolate(method ='linear', limit_direction ='forward')"
      ],
      "execution_count": 0,
      "outputs": []
    },
    {
      "cell_type": "markdown",
      "metadata": {
        "id": "HDhihLm9u9PI",
        "colab_type": "text"
      },
      "source": [
        "Pembagian data train dan data testnya di bagi menjadi 80% data train dan 20% data test."
      ]
    },
    {
      "cell_type": "code",
      "metadata": {
        "id": "1lTtaDDutA0s",
        "colab_type": "code",
        "colab": {}
      },
      "source": [
        "X_train, X_test, Y_train, Y_test = train_test_split(X, Y, test_size = 0.2, random_state = 123)"
      ],
      "execution_count": 0,
      "outputs": []
    },
    {
      "cell_type": "code",
      "metadata": {
        "id": "AljxaibytDWY",
        "colab_type": "code",
        "colab": {}
      },
      "source": [
        "scaler=StandardScaler()\n",
        "X_train=scaler.fit_transform(X_train)\n",
        "X_test=scaler.transform(X_test)"
      ],
      "execution_count": 0,
      "outputs": []
    },
    {
      "cell_type": "markdown",
      "metadata": {
        "id": "m-qXi84nvb6-",
        "colab_type": "text"
      },
      "source": [
        "Menggunakan Naive Bayes dengan perhitungan Gauss"
      ]
    },
    {
      "cell_type": "code",
      "metadata": {
        "id": "KtLesqYltF16",
        "colab_type": "code",
        "colab": {}
      },
      "source": [
        "modelnb=GaussianNB()\n",
        "nbtrain = modelnb.fit(X_train, Y_train)"
      ],
      "execution_count": 0,
      "outputs": []
    },
    {
      "cell_type": "code",
      "metadata": {
        "id": "aer1VE8huBHz",
        "colab_type": "code",
        "colab": {}
      },
      "source": [
        "Y_pred = nbtrain.predict(X_test)"
      ],
      "execution_count": 0,
      "outputs": []
    },
    {
      "cell_type": "markdown",
      "metadata": {
        "id": "_X0rcrfivDpn",
        "colab_type": "text"
      },
      "source": [
        "Melihat nilai probabilitasnya, jika nilainya semakin besar terhadap kelasnya maka dia masuk ke kelas tersebut."
      ]
    },
    {
      "cell_type": "code",
      "metadata": {
        "id": "Kgc4kEQQuEDt",
        "colab_type": "code",
        "colab": {
          "base_uri": "https://localhost:8080/",
          "height": 136
        },
        "outputId": "20dc7304-962b-4392-b0bc-b37be50fd754"
      },
      "source": [
        "nbtrain.predict_proba(X_test)"
      ],
      "execution_count": 10,
      "outputs": [
        {
          "output_type": "execute_result",
          "data": {
            "text/plain": [
              "array([[6.34195052e-07, 1.23645491e-05, 9.99987001e-01],\n",
              "       [5.23844254e-06, 1.24313012e-04, 9.99870449e-01],\n",
              "       [4.64347173e-07, 5.39870623e-06, 9.99994137e-01],\n",
              "       ...,\n",
              "       [3.33096046e-06, 5.24253091e-05, 9.99944244e-01],\n",
              "       [5.75192546e-07, 6.01038476e-06, 9.99993414e-01],\n",
              "       [5.28385778e-07, 7.51152691e-06, 9.99991960e-01]])"
            ]
          },
          "metadata": {
            "tags": []
          },
          "execution_count": 10
        }
      ]
    },
    {
      "cell_type": "code",
      "metadata": {
        "id": "cLqO99YpuIuP",
        "colab_type": "code",
        "colab": {
          "base_uri": "https://localhost:8080/",
          "height": 68
        },
        "outputId": "fa696a8f-c5f2-4640-8598-764b7aa60c45"
      },
      "source": [
        "from sklearn.metrics import classification_report, confusion_matrix  \n",
        "confusion_matrix(Y_test, Y_pred)"
      ],
      "execution_count": 14,
      "outputs": [
        {
          "output_type": "execute_result",
          "data": {
            "text/plain": [
              "array([[   6,    0,    0],\n",
              "       [   1,   97,  110],\n",
              "       [   3,    7, 3777]])"
            ]
          },
          "metadata": {
            "tags": []
          },
          "execution_count": 14
        }
      ]
    },
    {
      "cell_type": "code",
      "metadata": {
        "id": "UqkwPYqyuhhy",
        "colab_type": "code",
        "colab": {
          "base_uri": "https://localhost:8080/",
          "height": 34
        },
        "outputId": "63d35261-8018-45ac-b728-8732dd34fc4a"
      },
      "source": [
        "print(\"Accuracy:\",(metrics.accuracy_score(Y_test, Y_pred))*100,\"%\")"
      ],
      "execution_count": 19,
      "outputs": [
        {
          "output_type": "stream",
          "text": [
            "Accuracy: 96.97575606098475 %\n"
          ],
          "name": "stdout"
        }
      ]
    },
    {
      "cell_type": "code",
      "metadata": {
        "id": "44JbQ3ndur_x",
        "colab_type": "code",
        "colab": {
          "base_uri": "https://localhost:8080/",
          "height": 187
        },
        "outputId": "1b6cb19c-f941-4c65-b2c0-1826510ffa7d"
      },
      "source": [
        "print(classification_report(Y_test, Y_pred))"
      ],
      "execution_count": 16,
      "outputs": [
        {
          "output_type": "stream",
          "text": [
            "              precision    recall  f1-score   support\n",
            "\n",
            "           0       0.60      1.00      0.75         6\n",
            "           1       0.93      0.47      0.62       208\n",
            "           2       0.97      1.00      0.98      3787\n",
            "\n",
            "    accuracy                           0.97      4001\n",
            "   macro avg       0.83      0.82      0.79      4001\n",
            "weighted avg       0.97      0.97      0.97      4001\n",
            "\n"
          ],
          "name": "stdout"
        }
      ]
    },
    {
      "cell_type": "code",
      "metadata": {
        "id": "EVQ9MejguvYE",
        "colab_type": "code",
        "colab": {}
      },
      "source": [
        ""
      ],
      "execution_count": 0,
      "outputs": []
    }
  ]
}